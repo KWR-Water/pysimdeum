{
 "cells": [
  {
   "cell_type": "markdown",
   "metadata": {},
   "source": [
    "# 1. Introduction to pySIMDEUM\n",
    "This section demonstrates the core functionality of pySIMDEUM by creating, and simulating, an example `House`.\n",
    "\n",
    "The core object in pySIMDEUM is the `House`. Users and appliances are sampled and belong to a `House`.\n",
    "\n",
    "## `House` data structure\n",
    "\n",
    "When creating a `House` object the user needs to input the `house_type` (`one_person`, `two_person`, `family`). From that, users and appliances are sampled to populate a house. By default, a consumption profile is simulated when the `House` object is created. Discharge profiles are optional and by default are not simulated.\n",
    "\n",
    "Main schema:\n",
    "* id\n",
    "* house_type\n",
    "* statistics\n",
    "* user\n",
    "* appliances\n",
    "* `consumption`\n",
    "* `discharge` (_optional_)\n"
   ]
  },
  {
   "cell_type": "code",
   "execution_count": 1,
   "metadata": {},
   "outputs": [],
   "source": [
    "import pysimdeum\n",
    "import matplotlib.pyplot as plt"
   ]
  },
  {
   "cell_type": "markdown",
   "metadata": {},
   "source": [
    "To initialise a `House`, you need to input the type of house to generate."
   ]
  },
  {
   "cell_type": "code",
   "execution_count": 2,
   "metadata": {},
   "outputs": [
    {
     "name": "stdout",
     "output_type": "stream",
     "text": [
      "House:\n",
      "\tid\t=\t80bfd85d-c744-43f8-b284-72eeae62bd46\n",
      "\ttype\t=\tone_person\n",
      "\tuser\t=\t1\n",
      "\tappliances\t=\t['WcNormal', 'BathroomTap', 'KitchenTap', 'OutsideTap', 'NormalShower', 'WashingMachine']\n"
     ]
    }
   ],
   "source": [
    "# Build a house (one-person household)\n",
    "house = pysimdeum.built_house(house_type='one_person')\n",
    "print(house)"
   ]
  },
  {
   "cell_type": "code",
   "execution_count": 3,
   "metadata": {},
   "outputs": [
    {
     "name": "stdout",
     "output_type": "stream",
     "text": [
      "House type:\n",
      "one_person\n"
     ]
    }
   ],
   "source": [
    "# Show the type of house\n",
    "print(\"House type:\")\n",
    "print(house.house_type)"
   ]
  },
  {
   "cell_type": "markdown",
   "metadata": {},
   "source": [
    "You can view the statistics used to inform the sampling process. In this case, we are specifically accessing the population statistics for a `one_person` household.\n",
    "* `division_gender` provides probability of sampling `male` or `female` users.\n",
    "* `division_age` is the probability of that user being in an age category.\n",
    "* `job` is the probability the sampled user works out of the house."
   ]
  },
  {
   "cell_type": "code",
   "execution_count": 4,
   "metadata": {},
   "outputs": [
    {
     "data": {
      "text/plain": [
       "{'people': 1,\n",
       " 'households': 34,\n",
       " 'division_gender': {'male': 46, 'female': 54},\n",
       " 'division_age': {'child': 0, 'teen': 0, 'adult': 70, 'senior': 30},\n",
       " 'job': {'male': 67.5, 'female': 52.4}}"
      ]
     },
     "execution_count": 4,
     "metadata": {},
     "output_type": "execute_result"
    }
   ],
   "source": [
    "house.statistics.__dict__['household']['one_person']"
   ]
  },
  {
   "cell_type": "markdown",
   "metadata": {},
   "source": [
    "You can see the details of the `user` that is sampled to populate this `House`. "
   ]
  },
  {
   "cell_type": "code",
   "execution_count": 5,
   "metadata": {},
   "outputs": [
    {
     "name": "stdout",
     "output_type": "stream",
     "text": [
      "List of Users:\n",
      "[User(id='user_1', gender='male', age='senior', job=False)]\n"
     ]
    }
   ],
   "source": [
    "# Show the inhabitants of a house\n",
    "print(\"List of Users:\")\n",
    "print(house.users)"
   ]
  },
  {
   "cell_type": "markdown",
   "metadata": {},
   "source": [
    "Appliances (or enduses) are sampled to populate a `House` based on input statistcs. Statistics data for a `Wc` is shown below. `penetration` is at 100% meaning all houses must have a `Wc`. The subtypes of `WcNormal`, `WcNormalSave`, `WcNew` and `WcNewSave` are shown to have varying penetrations. This is to represent a range of different appliance subtypes that a population of households might contain."
   ]
  },
  {
   "cell_type": "code",
   "execution_count": 6,
   "metadata": {},
   "outputs": [
    {
     "data": {
      "text/plain": [
       "{'classname': 'Wc',\n",
       " 'penetration': 100,\n",
       " 'offset': 0,\n",
       " 'temperature': 10,\n",
       " 'discharge_temperature': 20,\n",
       " 'prob_flush_interuption': 70,\n",
       " 'prob_urine': 85,\n",
       " 'intensity': 0.042,\n",
       " 'discharge_intensity': 1.2,\n",
       " 'frequency': {'distribution': 'Poisson',\n",
       "  'average': {'child': {'male': 3.8, 'female': 5.4, 'total': 4.6},\n",
       "   'teen': {'male': 4.1, 'female': 5.1, 'total': 4.7},\n",
       "   'work_ad': {'male': 5.3, 'female': 6.8, 'total': 6.0},\n",
       "   'home_ad': {'male': 7.0, 'female': 7.0, 'total': 7.0},\n",
       "   'senior': {'male': 7.4, 'female': 6.8, 'total': 7.2},\n",
       "   'total': {'male': 5.3, 'female': 6.4, 'total': 5.9}}},\n",
       " 'subtype': {'WcNormal': {'penetration': 33.3,\n",
       "   'flush_interuption': False,\n",
       "   'cistern_size': 9,\n",
       "   'duration': '3.6 Minutes'},\n",
       "  'WcNormalSave': {'penetration': 22.2,\n",
       "   'flush_interuption': True,\n",
       "   'cistern_size': 9,\n",
       "   'duration': '3.6 Minutes'},\n",
       "  'WcNew': {'penetration': 11.1,\n",
       "   'flush_interuption': False,\n",
       "   'cistern_size': 6,\n",
       "   'duration': '2.4 Minutes'},\n",
       "  'WcNewSave': {'penetration': 33.3,\n",
       "   'flush_interuption': True,\n",
       "   'cistern_size': 6,\n",
       "   'duration': '2.4 Minutes'}}}"
      ]
     },
     "execution_count": 6,
     "metadata": {},
     "output_type": "execute_result"
    }
   ],
   "source": [
    "house.statistics.__dict__['end_uses']['Wc']"
   ]
  },
  {
   "cell_type": "markdown",
   "metadata": {},
   "source": [
    "A list of the sampled appliances are shown. Note the specific `Wc` subtype that is sampled."
   ]
  },
  {
   "cell_type": "code",
   "execution_count": 7,
   "metadata": {},
   "outputs": [
    {
     "name": "stdout",
     "output_type": "stream",
     "text": [
      "List of Devices:\n",
      "[WcNormal(name='WcNormal'), BathroomTap(name='BathroomTap'), KitchenTap(name='KitchenTap'), OutsideTap(name='OutsideTap'), NormalShower(name='NormalShower'), WashingMachine(name='EndUse')]\n"
     ]
    }
   ],
   "source": [
    "# Show water end-use devices present in the house\n",
    "print(\"List of Devices:\")\n",
    "print(house.appliances) "
   ]
  },
  {
   "cell_type": "markdown",
   "metadata": {},
   "source": [
    "You can access the simulated `consumption` profiles and produce various plots. We can plot `totalflow` for the `House` as well as a hourly rolling average."
   ]
  },
  {
   "cell_type": "code",
   "execution_count": 8,
   "metadata": {},
   "outputs": [
    {
     "name": "stdout",
     "output_type": "stream",
     "text": [
      "<xarray.DataArray (time: 86401)> Size: 691kB\n",
      "array([0.   , 0.   , 0.   , ..., 0.042, 0.042, 0.042])\n",
      "Coordinates:\n",
      "  * time       (time) datetime64[ns] 691kB 2025-04-25 ... 2025-04-26\n",
      "    flowtypes  <U9 36B 'totalflow'\n"
     ]
    }
   ],
   "source": [
    "# Build statistics from consumption\n",
    "tot_cons = house.consumption.sum(['enduse', 'user']).sel(flowtypes='totalflow').mean(['patterns'])\n",
    "print(tot_cons)"
   ]
  },
  {
   "cell_type": "code",
   "execution_count": 9,
   "metadata": {},
   "outputs": [
    {
     "data": {
      "image/png": "[encoded data removed]",
      "text/plain": [
       "<Figure size 640x480 with 1 Axes>"
      ]
     },
     "metadata": {},
     "output_type": "display_data"
    }
   ],
   "source": [
    "# Plot total consumption\n",
    "tot_cons.plot()\n",
    "tot_cons.rolling(time=3600, center=True).mean().plot()\n",
    "plt.show()"
   ]
  },
  {
   "cell_type": "markdown",
   "metadata": {},
   "source": [
    "Or for a more granular look you can plot a consumption profile for a specific appliance in the `House`."
   ]
  },
  {
   "cell_type": "code",
   "execution_count": 10,
   "metadata": {},
   "outputs": [
    {
     "data": {
      "text/plain": [
       "[<matplotlib.lines.Line2D at 0x11fe86190>]"
      ]
     },
     "execution_count": 10,
     "metadata": {},
     "output_type": "execute_result"
    },
    {
     "data": {
      "image/png": "[encoded data removed]",
      "text/plain": [
       "<Figure size 640x480 with 1 Axes>"
      ]
     },
     "metadata": {},
     "output_type": "display_data"
    }
   ],
   "source": [
    "# Plot consumption for a specific end-use\n",
    "house.consumption.sum([\"user\"]).sel(enduse=\"Wc\").sel(flowtypes=\"totalflow\").plot()"
   ]
  }
 ],
 "metadata": {
  "kernelspec": {
   "display_name": "pysim",
   "language": "python",
   "name": "python3"
  },
  "language_info": {
   "codemirror_mode": {
    "name": "ipython",
    "version": 3
   },
   "file_extension": ".py",
   "mimetype": "text/x-python",
   "name": "python",
   "nbconvert_exporter": "python",
   "pygments_lexer": "ipython3",
   "version": "3.11.10"
  }
 },
 "nbformat": 4,
 "nbformat_minor": 2
}
