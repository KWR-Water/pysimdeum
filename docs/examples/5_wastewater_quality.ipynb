{
 "cells": [
  {
   "cell_type": "markdown",
   "metadata": {},
   "source": [
    "# 5. Calculting wastewater quality\n",
    "\n",
    "The core functionality of pySIMDEUM is to deliver consumption, and if required, discharge water profiles for houses. However, some optional post-processing analysis is available for the user to calculate wastewater quality. This includes:\n",
    "\n",
    "* Nutrient concentrations\n",
    "    * n\n",
    "    * p\n",
    "    * cod\n",
    "    * bod5\n",
    "    * ss\n",
    "    * amm\n",
    "* Discharge temperature\n",
    "    * Note that this is at the point when it leaves the end use. In reality, temperature changes over time so this figure may not represent the exact temperatures.\n",
    "\n",
    "## Nutrient concentrations"
   ]
  },
  {
   "cell_type": "code",
   "execution_count": null,
   "metadata": {},
   "outputs": [],
   "source": [
    "import pysimdeum\n",
    "import matplotlib.pyplot as plt\n",
    "import os\n",
    "import toml\n",
    "\n",
    "from pysimdeum.data import DATA_DIR\n",
    "import pysimdeum.utils.wastewater_quality as wq"
   ]
  },
  {
   "cell_type": "markdown",
   "metadata": {},
   "source": [
    "Some default statistics for nutrient concentrations are provided in the `NL` and `UK` data folders in `ww_nutrients.toml`. The statistics are provided in `g/use`. This is an important point as pysimdeum allow for the inclusion of different enduse subtypes - an example being a more water efficient toilet. The amount of urine deposited will not change as a result but due to the water usage, nutrient concentration will. As a result, it makes sense to input data as per use, with the actualy concentration in the water being calculated by pysimdeum.\n",
    "\n",
    "The nutrient concentration config file is structured as below, listed by `enduse` with nested data by `substype` (if subtypes are included for that `enduse`)"
   ]
  },
  {
   "cell_type": "code",
   "execution_count": 6,
   "metadata": {},
   "outputs": [
    {
     "data": {
      "text/plain": [
       "{'Shower': {'shower': {'n': 0.49,\n",
       "   'p': 0.07,\n",
       "   'cod': 13.93,\n",
       "   'bod5': 7.43,\n",
       "   'ss': 13.93,\n",
       "   'amm': 0.06}},\n",
       " 'Bathtub': {'bathtub': {'n': 0.85,\n",
       "   'p': 0.15,\n",
       "   'cod': 26.05,\n",
       "   'bod5': 15.07,\n",
       "   'ss': 7.79,\n",
       "   'amm': 0.12}},\n",
       " 'Wc': {'urine': {'n': 2.0,\n",
       "   'p': 0.23,\n",
       "   'cod': 2.0,\n",
       "   'bod5': 2.46,\n",
       "   'ss': 0.0,\n",
       "   'amm': 0.92},\n",
       "  'faeces': {'n': 3.09,\n",
       "   'p': 0.48,\n",
       "   'cod': 30.23,\n",
       "   'bod5': 12.03,\n",
       "   'ss': 3.04,\n",
       "   'amm': 1.1}},\n",
       " 'KitchenTap': {'consumption': {'n': 0,\n",
       "   'p': 0,\n",
       "   'cod': 0,\n",
       "   'bod5': 0,\n",
       "   'ss': 0,\n",
       "   'amm': 0},\n",
       "  'dishes': {'n': 0.35,\n",
       "   'p': 0.28,\n",
       "   'cod': 7.51,\n",
       "   'bod5': 4.48,\n",
       "   'ss': 4.68,\n",
       "   'amm': 0.03},\n",
       "  'washing_hands': {'n': 0.35,\n",
       "   'p': 0.28,\n",
       "   'cod': 7.51,\n",
       "   'bod5': 4.48,\n",
       "   'ss': 4.68,\n",
       "   'amm': 0.03},\n",
       "  'other': {'n': 0.35,\n",
       "   'p': 0.28,\n",
       "   'cod': 7.51,\n",
       "   'bod5': 4.48,\n",
       "   'ss': 4.68,\n",
       "   'amm': 0.03}},\n",
       " 'BathroomTap': {'washing_shaving': {'n': 0.04,\n",
       "   'p': 0.14,\n",
       "   'cod': 1.5,\n",
       "   'bod5': 0.81,\n",
       "   'ss': 0.35,\n",
       "   'amm': 0.002},\n",
       "  'brushing_teeth': {'n': 0.04,\n",
       "   'p': 0.14,\n",
       "   'cod': 1.5,\n",
       "   'bod5': 0.81,\n",
       "   'ss': 0.35,\n",
       "   'amm': 0.002}},\n",
       " 'WashingMachine': {'washingmachine': {'n': 1.49,\n",
       "   'p': 7.29,\n",
       "   'cod': 65.25,\n",
       "   'bod5': 27.25,\n",
       "   'ss': 14.1,\n",
       "   'amm': 0.82}},\n",
       " 'Dishwasher': {'dishwasher': {'n': 1.35,\n",
       "   'p': 2.04,\n",
       "   'cod': 30,\n",
       "   'bod5': 18,\n",
       "   'ss': 9.7,\n",
       "   'amm': 0.82}}}"
      ]
     },
     "execution_count": 6,
     "metadata": {},
     "output_type": "execute_result"
    }
   ],
   "source": [
    "nutrient_data = toml.load(os.path.join(DATA_DIR, \"NL\", 'ww_nutrients.toml'))\n",
    "nutrient_data"
   ]
  },
  {
   "cell_type": "markdown",
   "metadata": {},
   "source": [
    "As always, initialise your household."
   ]
  },
  {
   "cell_type": "code",
   "execution_count": null,
   "metadata": {},
   "outputs": [
    {
     "name": "stderr",
     "output_type": "stream",
     "text": [
      "/Users/val.ismaili/DAA/pysimdeum/pysimdeum/core/utils.py:287: FutureWarning: Setting an item of incompatible dtype is deprecated and will raise an error in a future version of pandas. Value '0.1667' has dtype incompatible with int64, please explicitly cast to a compatible dtype first.\n",
      "  s.iloc[start:end] = intensity\n",
      "/Users/val.ismaili/DAA/pysimdeum/pysimdeum/core/utils.py:343: FutureWarning: Setting an item of incompatible dtype is deprecated and will raise an error in a future version of pandas. Value '0.6723566666666668' has dtype incompatible with int64, please explicitly cast to a compatible dtype first.\n",
      "  discharge_pattern.loc[discharge_start:discharge_end - pd.Timedelta(seconds=1)] = discharge_rate # restrict range to not be inclusive of final timstamp as this would result in extra discharge\n",
      "/Users/val.ismaili/DAA/pysimdeum/pysimdeum/core/utils.py:343: FutureWarning: Setting an item of incompatible dtype is deprecated and will raise an error in a future version of pandas. Value '0.5001' has dtype incompatible with int64, please explicitly cast to a compatible dtype first.\n",
      "  discharge_pattern.loc[discharge_start:discharge_end - pd.Timedelta(seconds=1)] = discharge_rate # restrict range to not be inclusive of final timstamp as this would result in extra discharge\n",
      "/Users/val.ismaili/DAA/pysimdeum/pysimdeum/core/user.py:95: FutureWarning: Setting an item of incompatible dtype is deprecated and will raise an error in a future version of pandas. Value 'normal' has dtype incompatible with float64, please explicitly cast to a compatible dtype first.\n",
      "  l[a:b] = value\n",
      "/Users/val.ismaili/DAA/pysimdeum/pysimdeum/core/user.py:150: FutureWarning: TimedeltaIndexResampler.fillna is deprecated and will be removed in a future version. Use obj.ffill(), obj.bfill(), or obj.nearest() instead.\n",
      "  pdf = pdf.astype('float').resample('1s').fillna('ffill')[:-1]\n"
     ]
    }
   ],
   "source": [
    "# Build a house (two-person household)\n",
    "house = pysimdeum.built_house(house_type='one_person', duration ='1 day', simulate_discharge=True)"
   ]
  },
  {
   "cell_type": "markdown",
   "metadata": {},
   "source": [
    "Nutrient concentration is calculated post-simulation and can be thought of as a stage of post-processing analysis. The calculation only requires the `discharge` `xarray.Dataset` that is generated when building a house and specifying to `simulate_discharge`. The `country` argument defaults to `NL`, can be optionally switched to `UK`. `time_agg` is the level of temporal aggregation you want your resulting nutrient concentration profile to be aggregated to, defaults to hourly. Options include:\n",
    "\n",
    "* `s`: seconds\n",
    "* `m`: minutes\n",
    "* `15min`: 15-minute intervals\n",
    "* `30min`: 30-minute intervals\n",
    "* `h`: hourly (default)"
   ]
  },
  {
   "cell_type": "markdown",
   "metadata": {},
   "source": [
    "The calculation is simple. For each `discharge_event` the sampled nutrient concentration for the `enduse` and `nutrient` is divided by the total discharge volume for that event.\n",
    "\n",
    "$$ \\text{Nutrient Concentration (g/L)} = \\frac{\\text{Nutrient per Use}}{\\text{Total Flow}} $$\n",
    "\n",
    "When temporally aggregating to household level, its effectively a weighted average as the nutrient concentration (g/L) is multiplied by the flow at that timestamp, for each enduse. These are summated and then weighted against the total discharge flow of the household at that timestamp. If temporal aggregation greater than a second is chosen, values for each of the timestamps will be summated:\n",
    "\n",
    "$$ \\text{Weighted Average} = \\frac{\\sum (\\text{Flow} \\cdot \\text{Nutrient Concentration})}{\\sum \\text{Flow}} $$"
   ]
  },
  {
   "cell_type": "code",
   "execution_count": null,
   "metadata": {},
   "outputs": [
    {
     "data": {
      "text/plain": [
       "[<matplotlib.lines.Line2D at 0x11ca2c090>]"
      ]
     },
     "execution_count": 4,
     "metadata": {},
     "output_type": "execute_result"
    },
    {
     "data": {
      "image/png": "[encoded data removed]",
      "text/plain": [
       "<Figure size 640x480 with 1 Axes>"
      ]
     },
     "metadata": {},
     "output_type": "display_data"
    }
   ],
   "source": [
    "nutrients_df = wq.hh_discharge_nutrients(discharge, country='NL', time_agg='h')\n",
    "nutrients_df.head()"
   ]
  },
  {
   "cell_type": "markdown",
   "metadata": {},
   "source": [
    "## Discharge temperature"
   ]
  },
  {
   "cell_type": "markdown",
   "metadata": {},
   "source": [
    "The process is very similar for calculating the temperature of wastewater. Each `enduse` has a `discharge_temperature` provided within the enduse statistics config file. The calculation when aggregating to household level is quite simple and essentially involves weighting the `discharge_temperature` based on the ratio of wastewater flow that `enduse` is contributing to the total wastewater flow at that given timestamp across all enduses."
   ]
  },
  {
   "cell_type": "markdown",
   "metadata": {},
   "source": [
    "The formula for temperature calculation is:\n",
    "\n",
    "$$\n",
    "T = \\frac{(F_1 \\cdot T_1) + (F_2 \\cdot T_2)}{F_1 + F_2}\n",
    "$$\n",
    "\n",
    "* $T$ is the calculated temperature.\n",
    "* $F_1$ and $F_2$ are the flows for enduse1 and enduse2.\n",
    "* $T_1$ and $T_2$ are the `discharge_temperature` for enduse1 and enduse2."
   ]
  },
  {
   "cell_type": "code",
   "execution_count": null,
   "metadata": {},
   "outputs": [
    {
     "data": {
      "text/plain": [
       "[<matplotlib.lines.Line2D at 0x17fc97f10>]"
      ]
     },
     "execution_count": 79,
     "metadata": {},
     "output_type": "execute_result"
    },
    {
     "data": {
      "image/png": "[encoded data removed]",
      "text/plain": [
       "<Figure size 640x480 with 1 Axes>"
      ]
     },
     "metadata": {},
     "output_type": "display_data"
    }
   ],
   "source": [
    "temp_df = wq.hh_discharge_temperature(discharge, country='NL', time_agg='h')\n",
    "temp_df.head()"
   ]
  }
 ],
 "metadata": {
  "kernelspec": {
   "display_name": "pysim",
   "language": "python",
   "name": "python3"
  },
  "language_info": {
   "codemirror_mode": {
    "name": "ipython",
    "version": 3
   },
   "file_extension": ".py",
   "mimetype": "text/x-python",
   "name": "python",
   "nbconvert_exporter": "python",
   "pygments_lexer": "ipython3",
   "version": "3.11.10"
  }
 },
 "nbformat": 4,
 "nbformat_minor": 2
}
