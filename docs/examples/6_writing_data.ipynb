{
 "cells": [
  {
   "cell_type": "markdown",
   "metadata": {},
   "source": [
    "# 6. Writing data\n",
    "\n",
    "There are a number of ways of writing data from pySIMDEUM. This includes saving `House` instances as a pickle object that can be loaded back into pySIMDEUM. Or various methods such as exporting to .csv\n",
    "\n",
    "## Save to pickle"
   ]
  },
  {
   "cell_type": "code",
   "execution_count": 1,
   "metadata": {},
   "outputs": [],
   "source": [
    "import pysimdeum\n",
    "import gzip\n",
    "import pickle\n",
    "import matplotlib.pyplot as plt\n",
    "from pysimdeum.core.house import Property\n",
    "from pysimdeum.core.statistics import Statistics\n",
    "import pysimdeum.tools.write as writer"
   ]
  },
  {
   "cell_type": "code",
   "execution_count": 2,
   "metadata": {},
   "outputs": [],
   "source": [
    "# Build a house (two-person household)\n",
    "house = pysimdeum.built_house(house_type='one_person', duration ='1 day')"
   ]
  },
  {
   "cell_type": "markdown",
   "metadata": {},
   "source": [
    "You can save the house object as a python pickle object. You can save many different object types as a pickle that can later be read back into Python easily. In this case, we can write the `House` instance."
   ]
  },
  {
   "cell_type": "code",
   "execution_count": 3,
   "metadata": {},
   "outputs": [],
   "source": [
    "# Assuming houses is a list of house objects\n",
    "with gzip.open('data/house.pkl.gz', 'wb') as f:\n",
    "    pickle.dump(house, f)"
   ]
  },
  {
   "cell_type": "markdown",
   "metadata": {},
   "source": [
    "Or if you wanted to generate a list of `House` objects, you could also pickle that."
   ]
  },
  {
   "cell_type": "code",
   "execution_count": 4,
   "metadata": {},
   "outputs": [
    {
     "data": {
      "text/plain": [
       "[House:\n",
       " \tid\t=\te8d2cb9e-ab60-4b0b-9bc2-bba7f7569717\n",
       " \ttype\t=\ttwo_person\n",
       " \tuser\t=\t2\n",
       " \tappliances\t=\t['WcNormalSave', 'Bathtub', 'BathroomTap', 'Dishwasher', 'KitchenTap', 'OutsideTap', 'FancyShower', 'WashingMachine'],\n",
       " House:\n",
       " \tid\t=\te8d2cb9e-ab60-4b0b-9bc2-bba7f7569717\n",
       " \ttype\t=\tfamily\n",
       " \tuser\t=\t2\n",
       " \tappliances\t=\t['WcNewSave', 'BathroomTap', 'Dishwasher', 'KitchenTap', 'OutsideTap', 'FancyShower', 'WashingMachine']]"
      ]
     },
     "execution_count": 4,
     "metadata": {},
     "output_type": "execute_result"
    }
   ],
   "source": [
    "houses = []\n",
    "number_of_houses = 2\n",
    "\n",
    "for _i in range(number_of_houses):\n",
    "    stats = Statistics()\n",
    "    prop = Property(statistics=stats)\n",
    "    house = prop.built_house()\n",
    "    house.populate_house()\n",
    "    house.furnish_house()\n",
    "    for user in house.users:\n",
    "        user.compute_presence(statistics=stats)\n",
    "    house.simulate()\n",
    "    houses.append(house)\n",
    "\n",
    "houses"
   ]
  },
  {
   "cell_type": "code",
   "execution_count": 5,
   "metadata": {},
   "outputs": [],
   "source": [
    "# Assuming houses is a list of house objects\n",
    "with gzip.open('data/houses.pkl.gz', 'wb') as f:\n",
    "    pickle.dump(houses, f)"
   ]
  },
  {
   "cell_type": "markdown",
   "metadata": {},
   "source": [
    "You can read either of these pickle objects back into Python in a similar way and then interact with it in the usual ways you might such as plotting the consumption pattern of a house."
   ]
  },
  {
   "cell_type": "code",
   "execution_count": 6,
   "metadata": {},
   "outputs": [
    {
     "data": {
      "text/plain": [
       "House:\n",
       "\tid\t=\te8d2cb9e-ab60-4b0b-9bc2-bba7f7569717\n",
       "\ttype\t=\tone_person\n",
       "\tuser\t=\t1\n",
       "\tappliances\t=\t['WcNewSave', 'BathroomTap', 'KitchenTap', 'NormalShower', 'WashingMachine']"
      ]
     },
     "execution_count": 6,
     "metadata": {},
     "output_type": "execute_result"
    }
   ],
   "source": [
    "# pickle object can be read back\n",
    "with gzip.open('data/house.pkl.gz', 'rb') as f:\n",
    "    house_read = pickle.load(f)\n",
    "\n",
    "house_read"
   ]
  },
  {
   "cell_type": "code",
   "execution_count": 7,
   "metadata": {},
   "outputs": [
    {
     "data": {
      "text/plain": [
       "[<matplotlib.lines.Line2D at 0x107e3cad0>]"
      ]
     },
     "execution_count": 7,
     "metadata": {},
     "output_type": "execute_result"
    },
    {
     "data": {
      "image/png": "[encoded data removed]",
      "text/plain": [
       "<Figure size 640x480 with 1 Axes>"
      ]
     },
     "metadata": {},
     "output_type": "display_data"
    }
   ],
   "source": [
    "house_read.consumption.sum([\"enduse\",\"user\"]).sel(flowtypes=\"totalflow\").plot()"
   ]
  },
  {
   "cell_type": "markdown",
   "metadata": {},
   "source": [
    "## pySIMDEUM write methods"
   ]
  },
  {
   "cell_type": "markdown",
   "metadata": {},
   "source": [
    "pySIMDEUM includes a number of in-built write methods to provide easy ways to retrieve summary statistics about simulations.\n",
    "\n",
    "These can be accessed by import functions from the `write` module, as below\n",
    "\n",
    "```python\n",
    "import pysimdeum.tools.write as writer\n",
    "```\n",
    "\n",
    "A summary of these functions are:\n",
    "* `writer.export_water_use_distribution`: exports summary of water usage data for appliances in a property or house to an excel files containing two sheets\n",
    "    * `data`: appliance-level water usage data\n",
    "    * `metadata`: contains metadata such as total water usage, number of users, and calculation data\n",
    "* `write_simdeum_patterns_to_ddg`:\n",
    "* `write_simdeum_patterns_to_xlsx`: exports total water usage patterns to an excel file summated to each timestep level specified by the user for all houses\n",
    "* `write_simdeum_patterns_to_xlsx`: similar to the above, but specifically for `hotwater` flow\n",
    "\n",
    "For example, you could write the total flows to an excel file summating to minute (60 second) timesteps. \n",
    "\n",
    "**Note that these methods are only currently set up to work for `consumption` simulations**"
   ]
  },
  {
   "cell_type": "code",
   "execution_count": 8,
   "metadata": {},
   "outputs": [],
   "source": [
    "writer.write_simdeum_patterns_to_xlsx(houses, timestep=60, Q_option='m3/h', patternfile_option=1, output_file='houses.xlsx')"
   ]
  }
 ],
 "metadata": {
  "kernelspec": {
   "display_name": "pysim",
   "language": "python",
   "name": "python3"
  },
  "language_info": {
   "codemirror_mode": {
    "name": "ipython",
    "version": 3
   },
   "file_extension": ".py",
   "mimetype": "text/x-python",
   "name": "python",
   "nbconvert_exporter": "python",
   "pygments_lexer": "ipython3",
   "version": "3.11.10"
  }
 },
 "nbformat": 4,
 "nbformat_minor": 2
}
